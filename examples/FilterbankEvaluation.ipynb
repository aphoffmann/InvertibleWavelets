{
 "cells": [
  {
   "cell_type": "code",
   "execution_count": 4,
   "metadata": {},
   "outputs": [],
   "source": [
    "import pandas as pd\n",
    "import numpy as np\n",
    "from invertiblewavelets import Transform, LinearFilterBank, DyadicFilterBank\n",
    "import matplotlib.pyplot as plt\n",
    "from invertiblewavelets import Cauchy\n",
    "import time\n",
    "\n",
    "\"This notebook requires MAGPRIME for data loading. Uncomment to install.\"\n",
    "# !pip install git+https://github.com/aphoffmann/MAGPRIME.git\n",
    "from magprime import utility"
   ]
  },
  {
   "cell_type": "markdown",
   "metadata": {},
   "source": [
    "#### Load Example Data from Swarm A Spacecraft Magnetometer"
   ]
  },
  {
   "cell_type": "code",
   "execution_count": 5,
   "metadata": {},
   "outputs": [
    {
     "name": "stderr",
     "output_type": "stream",
     "text": [
      "c:\\Users\\aphoffm2\\AppData\\Local\\anaconda3\\envs\\mag\\Lib\\site-packages\\magprime\\utility\\data_loader.py:28: DtypeWarning: Columns (2,5,6,8,9) have mixed types. Specify dtype option on import or set low_memory=False.\n",
      "  df=pd.read_csv(file_path, sep=',',header=None)\n"
     ]
    }
   ],
   "source": [
    "data = utility.load_swarm_data(160000,165000)[2] # Units in nanoTesla\n",
    "sample_rate = 50.0                          # 50 Hz sampling rate\n",
    "num_samples = data.shape[-1]                # 5000 samples\n",
    "t = np.arange(num_samples) / sample_rate    # time array"
   ]
  },
  {
   "cell_type": "markdown",
   "metadata": {},
   "source": [
    "#### Dyadic Scale Set"
   ]
  },
  {
   "cell_type": "code",
   "execution_count": 8,
   "metadata": {},
   "outputs": [
    {
     "name": "stdout",
     "output_type": "stream",
     "text": [
      "RMSE for Lh=4000: 0.35\n",
      "RMSE for Lh=4054: 0.46\n",
      "RMSE for Lh=4142: 0.00\n",
      "RMSE for Lh=4224: 0.00\n",
      "RMSE for Lh=4295: 0.00\n",
      "RMSE for Lh=4366: 0.00\n",
      "RMSE for Lh=4458: 0.00\n",
      "RMSE for Lh=4512: 0.00\n",
      "RMSE for Lh=4596: 0.00\n",
      "RMSE for Lh=4656: 0.00\n",
      "RMSE for Lh=4710: 0.00\n",
      "RMSE for Lh=4786: 0.00\n",
      "RMSE for Lh=4884: 0.00\n",
      "RMSE for Lh=4970: 0.00\n",
      "RMSE for Lh=5058: 0.00\n",
      "RMSE for Lh=5143: 0.00\n",
      "RMSE for Lh=5232: 0.00\n",
      "RMSE for Lh=5307: 0.00\n",
      "RMSE for Lh=5363: 0.00\n",
      "RMSE for Lh=5454: 0.00\n",
      "RMSE for Lh=5526: 0.00\n",
      "RMSE for Lh=5601: 0.00\n",
      "RMSE for Lh=5669: 0.00\n",
      "RMSE for Lh=5728: 0.00\n",
      "RMSE for Lh=5824: 0.00\n",
      "RMSE for Lh=5913: 0.00\n",
      "RMSE for Lh=5995: 0.00\n",
      "RMSE for Lh=6065: 0.00\n",
      "RMSE for Lh=6156: 0.00\n",
      "RMSE for Lh=6233: 0.00\n",
      "RMSE for Lh=6305: 0.00\n",
      "RMSE for Lh=6377: 0.00\n",
      "RMSE for Lh=6438: 0.00\n",
      "RMSE for Lh=6492: 0.00\n",
      "RMSE for Lh=6569: 0.00\n",
      "RMSE for Lh=6663: 0.00\n",
      "RMSE for Lh=6716: 0.00\n",
      "RMSE for Lh=6808: 0.00\n",
      "RMSE for Lh=6899: 0.00\n",
      "RMSE for Lh=6962: 0.00\n",
      "RMSE for Lh=7043: 0.00\n",
      "RMSE for Lh=7101: 0.00\n",
      "RMSE for Lh=7188: 0.00\n",
      "RMSE for Lh=7273: 0.00\n",
      "RMSE for Lh=7340: 0.00\n",
      "RMSE for Lh=7393: 0.00\n",
      "RMSE for Lh=7491: 0.00\n",
      "RMSE for Lh=7563: 0.00\n",
      "RMSE for Lh=7657: 0.00\n",
      "RMSE for Lh=7740: 0.00\n",
      "RMSE for Lh=7828: 0.00\n",
      "RMSE for Lh=7915: 0.00\n",
      "RMSE for Lh=7974: 0.00\n",
      "RMSE for Lh=8042: 0.00\n",
      "RMSE for Lh=8115: 0.00\n",
      "RMSE for Lh=8189: 0.00\n",
      "RMSE for Lh=8241: 0.00\n",
      "RMSE for Lh=8318: 0.00\n",
      "RMSE for Lh=8375: 0.00\n",
      "RMSE for Lh=8462: 0.00\n",
      "RMSE for Lh=8546: 0.00\n",
      "RMSE for Lh=8642: 0.00\n",
      "RMSE for Lh=8729: 0.00\n",
      "RMSE for Lh=8797: 0.00\n",
      "RMSE for Lh=8895: 0.00\n",
      "RMSE for Lh=8965: 0.00\n",
      "RMSE for Lh=9031: 0.00\n",
      "RMSE for Lh=9126: 0.00\n",
      "RMSE for Lh=9194: 0.00\n",
      "RMSE for Lh=9247: 0.00\n",
      "RMSE for Lh=9320: 0.00\n",
      "RMSE for Lh=9409: 0.00\n",
      "RMSE for Lh=9468: 0.00\n",
      "RMSE for Lh=9541: 0.00\n",
      "RMSE for Lh=9597: 0.00\n",
      "RMSE for Lh=9681: 0.00\n",
      "RMSE for Lh=9754: 0.00\n",
      "RMSE for Lh=9820: 0.00\n",
      "RMSE for Lh=9881: 0.00\n",
      "RMSE for Lh=9959: 0.00\n"
     ]
    }
   ],
   "source": [
    "# -------------------------------------------------------------------\n",
    "# filter-length ➜ RMSE\n",
    "# -------------------------------------------------------------------\n",
    "def rmse_for_Lh(Lh, sample_rate, data):\n",
    "    fb = DyadicFilterBank(\n",
    "        wavelet=Cauchy(1000),\n",
    "        fs=sample_rate,\n",
    "        N=Lh,\n",
    "        real=True,\n",
    "        dj=1/8,\n",
    "        s_max=2,\n",
    "        compensation=True\n",
    "    )\n",
    "    tr    = Transform.from_filterbank(fb)\n",
    "    recon = tr.inverse(tr.forward(data, mode='full'), mode='full', Lx=5000)\n",
    "\n",
    "    margin = 1000\n",
    "    err    = recon[margin:-margin] - data[margin:-margin]\n",
    "    return np.sqrt(np.mean(err**2))\n",
    "\n",
    "\n",
    "# -------------------------------------------------------------------\n",
    "# main: parallel sweep with a *responsive* bar\n",
    "# -------------------------------------------------------------------\n",
    "# --- analysis target ---------------------------------------------\n",
    "low, high = 4000, 10000          # inclusive start, exclusive stop\n",
    "rng       = np.random.default_rng(42)   # seed for reproducibility\n",
    "\n",
    "# keep stepping by 1‒10 until we’d exceed `high`\n",
    "steps = rng.integers(50, 100, size=high-low)     # overshoot then trim\n",
    "Lhs   = np.cumsum(np.insert(steps, 0, low))    # start at 1000\n",
    "Lhs   = Lhs[Lhs < high]\n",
    "rmses  = []\n",
    "\n",
    "\n",
    "# --- sweep (single process, live plot) ---------------------------\n",
    "for Lh in Lhs:\n",
    "    rmse = rmse_for_Lh(Lh, sample_rate=sample_rate, data=data)\n",
    "    rmses.append(rmse)\n",
    "    print(f\"RMSE for Lh={Lh}: {rmse:.2f}\")\n"
   ]
  },
  {
   "cell_type": "code",
   "execution_count": 9,
   "metadata": {},
   "outputs": [
    {
     "data": {
      "image/png": "[encoded data removed]",
      "text/plain": [
       "<Figure size 600x400 with 1 Axes>"
      ]
     },
     "metadata": {},
     "output_type": "display_data"
    }
   ],
   "source": [
    "# ── 1) strip-plot (all points with a tiny horizontal jitter) ──────────\n",
    "fig, ax = plt.subplots(figsize=(6, 4))\n",
    "\n",
    "ax.scatter(\n",
    "    Lhs,\n",
    "    rmses,\n",
    "    s     = 10,\n",
    "    alpha = 0.6,\n",
    ")\n",
    "\n",
    "ax.set_xlabel(\"Filter bank length (Lh)\")\n",
    "ax.set_ylabel(\"RMSE\")\n",
    "ax.set_yscale(\"log\")\n",
    "ax.set_title(\"RMSE vs. filter-bank length modulo 10\")\n",
    "plt.tight_layout()\n",
    "plt.show()"
   ]
  }
 ],
 "metadata": {
  "kernelspec": {
   "display_name": "mag",
   "language": "python",
   "name": "python3"
  },
  "language_info": {
   "codemirror_mode": {
    "name": "ipython",
    "version": 3
   },
   "file_extension": ".py",
   "mimetype": "text/x-python",
   "name": "python",
   "nbconvert_exporter": "python",
   "pygments_lexer": "ipython3",
   "version": "3.13.2"
  }
 },
 "nbformat": 4,
 "nbformat_minor": 2
}
