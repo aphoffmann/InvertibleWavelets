{
 "cells": [
  {
   "cell_type": "code",
   "execution_count": 1,
   "id": "624fef1a",
   "metadata": {},
   "outputs": [],
   "source": [
    "import fcwt\n",
    "import numpy as np\n",
    "import timeit\n",
    "from invertiblewavelets import Morlet, LinearFilterBank, Transform\n",
    "import matplotlib.pyplot as plt"
   ]
  },
  {
   "cell_type": "markdown",
   "id": "e4336dcc",
   "metadata": {},
   "source": [
    "#### Create Test Signals"
   ]
  },
  {
   "cell_type": "code",
   "execution_count": 2,
   "id": "8e68f541",
   "metadata": {},
   "outputs": [],
   "source": [
    "fs = 100\n",
    "\n",
    "n10k = 10000\n",
    "n100k = 100000\n",
    "\n",
    "#Generate signals\n",
    "sig_100k = np.sin(2*np.pi*((0.1+(2*np.arange(n100k))/n100k)*(np.arange(n100k)/fs)))\n",
    "sig_10k = np.sin(2*np.pi*((0.1+(2*np.arange(n10k))/n10k)*(np.arange(n10k)/fs)))"
   ]
  },
  {
   "cell_type": "markdown",
   "id": "5f770535",
   "metadata": {},
   "source": [
    "#### Create fCWT Optimization Plan"
   ]
  },
  {
   "cell_type": "code",
   "execution_count": 3,
   "id": "e9802be1",
   "metadata": {},
   "outputs": [],
   "source": [
    "f0 = 1\n",
    "f1 = 101\n",
    "fn300 = 300\n",
    "fn3000 = 3000\n",
    "\n",
    "#make sure signal is a numpy float array\n",
    "sig_100k = np.array(sig_100k, dtype=np.float32)\n",
    "sig_10k = np.array(sig_10k, dtype=np.float32)\n",
    "\n",
    "#initialize Morlet wavelet with wavelet parameter (sigma) 2.0\n",
    "morl = fcwt.Morlet(2.0)\n",
    "\n",
    "#initialize scales\n",
    "scales300 = fcwt.Scales(morl, fcwt.FCWT_LINFREQS, fs, f0, f1, fn300)\n",
    "scales3000 = fcwt.Scales(morl, fcwt.FCWT_LINFREQS, fs, f0, f1, fn3000)\n",
    "\n",
    "#initialize fcwt\n",
    "nthreads = 8\n",
    "use_optimization_plan = True\n",
    "use_normalization = False\n",
    "fcwt_obj = fcwt.FCWT(morl, nthreads, use_optimization_plan, use_normalization)\n",
    "\n",
    "#initialize output array\n",
    "output_10k_300 = np.zeros((fn300,sig_10k.size), dtype=np.complex64)\n",
    "output_100k_300 = np.zeros((fn300,sig_100k.size), dtype=np.complex64)\n",
    "output_10k_3000 = np.zeros((fn3000,sig_100k.size), dtype=np.complex64)\n",
    "output_100k_3000 = np.zeros((fn3000,sig_100k.size), dtype=np.complex64)"
   ]
  },
  {
   "cell_type": "code",
   "execution_count": 4,
   "id": "b285b4b1",
   "metadata": {},
   "outputs": [],
   "source": [
    "fcwt_obj.create_FFT_optimization_plan(100000,\"FFTW_MEASURE\")"
   ]
  },
  {
   "cell_type": "markdown",
   "id": "b2d3f727",
   "metadata": {},
   "source": [
    "#### Create Invertible Wavelets"
   ]
  },
  {
   "cell_type": "code",
   "execution_count": 6,
   "id": "061587e2",
   "metadata": {},
   "outputs": [],
   "source": [
    "fb_300 = LinearFilterBank(wavelet=Morlet(1,200) , fs=fs, N=5000, real=True, b = 1, M = 300)\n",
    "fb_3000 = LinearFilterBank(wavelet=Morlet(1,200) , fs=fs, N=5000, real=True, b = 1, M = 3000)\n",
    "tf_300 = Transform(fb_300.Wfreq)\n",
    "tf_3000 = Transform(fb_3000.Wfreq)"
   ]
  },
  {
   "cell_type": "code",
   "execution_count": null,
   "id": "7ac74bb2",
   "metadata": {},
   "outputs": [
    {
     "name": "stdout",
     "output_type": "stream",
     "text": [
      "10k-300:  0.012242120003793388 seconds\n",
      "10k-300:  0.21389096999773755 seconds\n"
     ]
    }
   ],
   "source": [
    "#10k-300\n",
    "a = timeit.timeit('fcwt_obj.cwt(sig_10k, scales300, output_10k_300)', number=10, globals=globals())\n",
    "print(\"fCWT 10k-300: \", a/10, \"seconds\")\n",
    "\n",
    "a = timeit.timeit('tf_300.forward(sig_10k, mode=\"same\")', number=10, globals=globals())\n",
    "print(\"Our 10k-300: \", a/10, \"seconds\")"
   ]
  },
  {
   "cell_type": "code",
   "execution_count": 8,
   "id": "8d80adff",
   "metadata": {},
   "outputs": [
    {
     "name": "stdout",
     "output_type": "stream",
     "text": [
      "fCWT 100k-300:  0.07928581000305712 seconds\n",
      "Our 100k-300:  1.0013478299952112 seconds\n"
     ]
    }
   ],
   "source": [
    "\n",
    "#100k-300\n",
    "a = timeit.timeit('fcwt_obj.cwt(sig_100k, scales300, output_100k_300)', number=10, globals=globals())\n",
    "print(\"fCWT 100k-300: \", a/10, \"seconds\")\n",
    "\n",
    "a = timeit.timeit('tf_300.forward(sig_100k, mode=\"same\")', number=10, globals=globals())\n",
    "print(\"Our 100k-300: \", a/10, \"seconds\")"
   ]
  },
  {
   "cell_type": "code",
   "execution_count": null,
   "id": "a4f564ac",
   "metadata": {},
   "outputs": [
    {
     "name": "stdout",
     "output_type": "stream",
     "text": [
      "10k-3000:  0.10898384999018162 seconds\n",
      "Our 10k-3000:  2.227714030002244 seconds\n"
     ]
    }
   ],
   "source": [
    "#10k-3000\n",
    "a = timeit.timeit('fcwt_obj.cwt(sig_10k, scales3000, output_10k_3000)', number=10, globals=globals())\n",
    "print(\"fCWT 10k-3000: \", a/10, \"seconds\")\n",
    "\n",
    "a = timeit.timeit('tf_3000.forward(sig_10k, mode=\"same\")', number=10, globals=globals())\n",
    "print(\"Our 10k-3000: \", a/10, \"seconds\")"
   ]
  },
  {
   "cell_type": "code",
   "execution_count": 10,
   "id": "66886a6a",
   "metadata": {},
   "outputs": [
    {
     "name": "stdout",
     "output_type": "stream",
     "text": [
      "fCWT 100k-3000:  0.7597234999993816 seconds\n",
      "Our 100k-3000:  12.097156570001971 seconds\n"
     ]
    }
   ],
   "source": [
    "#100k-3000\n",
    "a = timeit.timeit('fcwt_obj.cwt(sig_100k, scales3000, output_100k_3000)', number=10, globals=globals())\n",
    "print(\"fCWT 100k-3000: \", a/10, \"seconds\")\n",
    "\n",
    "a = timeit.timeit('tf_3000.forward(sig_100k, mode=\"same\")', number=10, globals=globals())\n",
    "print(\"Our 100k-3000: \", a/10, \"seconds\")"
   ]
  }
 ],
 "metadata": {
  "kernelspec": {
   "display_name": "latest",
   "language": "python",
   "name": "python3"
  },
  "language_info": {
   "codemirror_mode": {
    "name": "ipython",
    "version": 3
   },
   "file_extension": ".py",
   "mimetype": "text/x-python",
   "name": "python",
   "nbconvert_exporter": "python",
   "pygments_lexer": "ipython3",
   "version": "3.13.2"
  }
 },
 "nbformat": 4,
 "nbformat_minor": 5
}
